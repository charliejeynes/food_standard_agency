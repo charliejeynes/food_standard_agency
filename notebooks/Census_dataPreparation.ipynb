{
 "cells": [
  {
   "cell_type": "code",
   "execution_count": 4,
   "metadata": {},
   "outputs": [],
   "source": [
    "import pandas as pd\n",
    "import numpy as np\n"
   ]
  },
  {
   "cell_type": "code",
   "execution_count": 2,
   "metadata": {},
   "outputs": [],
   "source": [
    "# Load census 2011 file - includes Wales and England (takes a long time to load)\n",
    "\n",
    "census_path = '/Users/garcial/My_documents/Personal documents/S2DS_course/FSA_project/Data/2011 Census Microdata Individual Safeguarded Sample (Regional) - England and Wales/csv/microdata_census2011_wales.xlsx'\n",
    "#census_path = 'insert_your_own_path/microdata_census2011_wales.xlsx'\n",
    "census_full_dataset = pd.read_excel(census_path)\n",
    "census_full_dataset = pd.DataFrame(census_full_dataset)\n",
    "\n",
    "# Keep only Wales data (encoded with no 2 in the 'country' column)\n",
    "census_full_dataset = census_full_dataset[census_full_dataset.country == 2]"
   ]
  },
  {
   "cell_type": "code",
   "execution_count": 5,
   "metadata": {},
   "outputs": [],
   "source": [
    "# Re-structure census dataset to share colnames and values as in survey dataset\n",
    "\n",
    "# Create new dataframe where we select only the data for demographics comparison\n",
    "demographic_variables = ['age', 'marstat', 'religionew', 'sex', 'deprived', 'ecopuk', 'health']\n",
    "census = census_full_dataset[demographic_variables]\n",
    "\n",
    "# Set -9 values as NaN\n",
    "census = census.replace (-9, np.nan)\n",
    "\n",
    "# drop all rows with answers from people below 16 yo\n",
    "age_out_of_range_index = census[(census['age'] < 16)].index\n",
    "census.drop(age_out_of_range_index, inplace = True)\n",
    "\n",
    "# group ages by age group \n",
    "census['age_dv'] = pd.cut(census.age, bins = [15,24,34,44,54,64,74,110], labels = [1,2,3,4,5,6,7])\n",
    "# to create 3 broader age groups:\n",
    "census['age_dv_grouped'] = pd.cut(census.age, bins = [15,24,54,110], labels = ['16-24','25-54','55+'])\n",
    "\n",
    "# group marital status\n",
    "census['marstat2'] = census['marstat'].replace({1:'A', 2:'B', 3:'B', 4:'A', 5:'A', 6:'A'}).replace({'B':1, 'A':2})\n",
    "\n",
    "# group religion\n",
    "census['religion_dv'] = (census['religionew']\n",
    "                         .replace({1:'A', 2:'B', 3:'C', 4:'C', 5:'C', 6:'C', 7:'C', 8:'C',  9: np.nan})\n",
    "                         .replace({'A':3, 'B':1, 'C':2}))\n",
    "\n",
    "# group work status\n",
    "census['workstat2'] = (census['ecopuk']\n",
    "                       .replace({1:'A', 2:'A', 3:'A', 4:'A', 5:'A', 6:'A', 8:'A', 9:'A', 10:'A', 11:'A', 12:'B',\n",
    "                                 7:'C', 13:'C', 14:'C', 15:'C', 16:'C'})\n",
    "                       .replace({'A':1, 'B':2, 'C':3}))\n",
    "\n",
    "# deprivation index (reverse values)\n",
    "census['wimd_2014_quintile'] = (census['deprived']\n",
    "                                .replace({1:'A', 2:'B', 3:'C', 4:'D', 5:'E'})\n",
    "                                .replace({'A':5, 'B':4, 'C':3, 'D':2, 'E':1}))\n",
    "\n",
    "# health and sex\n",
    "census = census.rename(columns={'health': 'Q6_1', 'sex': 'RespSex'})\n",
    "\n",
    "# remove columns that are duplicates and not in the right format\n",
    "census = census.drop(columns = ['age', 'marstat', 'religionew', 'ecopuk','deprived'])"
   ]
  },
  {
   "cell_type": "code",
   "execution_count": 8,
   "metadata": {},
   "outputs": [],
   "source": [
    "census.to_csv('census_2011_Wales_prepared.csv', index=False)"
   ]
  },
  {
   "cell_type": "code",
   "execution_count": null,
   "metadata": {},
   "outputs": [],
   "source": []
  }
 ],
 "metadata": {
  "kernelspec": {
   "display_name": "Python 3",
   "language": "python",
   "name": "python3"
  },
  "language_info": {
   "codemirror_mode": {
    "name": "ipython",
    "version": 3
   },
   "file_extension": ".py",
   "mimetype": "text/x-python",
   "name": "python",
   "nbconvert_exporter": "python",
   "pygments_lexer": "ipython3",
   "version": "3.7.7"
  }
 },
 "nbformat": 4,
 "nbformat_minor": 4
}
