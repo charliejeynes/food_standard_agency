{
 "cells": [
  {
   "cell_type": "code",
   "execution_count": 37,
   "metadata": {},
   "outputs": [],
   "source": [
    "import pandas as pd\n",
    "import numpy as np\n",
    "import seaborn as sns\n",
    "import matplotlib.pyplot as plt\n",
    "from sklearn import preprocessing\n"
   ]
  },
  {
   "cell_type": "code",
   "execution_count": 40,
   "metadata": {},
   "outputs": [],
   "source": [
    "data = pd.read_csv(\"Data/food survey_Wales-is-region_dv-10/Food+and+You+Waves+1-5+Data (3).csv\")\n",
    "\n",
    "data_wales = data[data.region_dv.eq(10)]\n",
    "#data_wales.shape\n",
    "\n",
    "x = data_wales.values #returns a numpy array\n",
    "min_max_scaler = preprocessing.MinMaxScaler()\n",
    "x_scaled = min_max_scaler.fit_transform(x)\n",
    "data_wales = pd.DataFrame(x_scaled)\n",
    "#also: normalized_df=(df-df.min())/(df.max()-df.min())\n"
   ]
  },
  {
   "cell_type": "code",
   "execution_count": 43,
   "metadata": {},
   "outputs": [],
   "source": [
    "\n",
    "sns.set(style=\"white\")\n",
    "\n",
    "# Compute the correlation matrix\n",
    "corr_matrix = data_wales.corr()\n",
    "#print (corr_matrix)\n",
    "\n",
    "# Generate a mask for the upper triangle\n",
    "mask = np.triu(np.ones_like(corr_matrix, dtype = np.bool))\n",
    "\n",
    "# Set up the matplotlib figure\n",
    "f, ax = plt.subplots(figsize=(110, 90))\n",
    "\n",
    "# Generate a custom diverging colormap\n",
    "cmap = sns.diverging_palette(220, 10, as_cmap=True)\n",
    "\n",
    "# Draw the heatmap with the mask and correct aspect ratio\n",
    "sns.heatmap(corr_matrix, mask=mask, cmap=cmap, vmax=.3, center=0,\n",
    "            xticklabels=True, yticklabels=True,\n",
    "            square=True, linewidths=.5, cbar_kws={\"shrink\": .5})\n",
    "\n",
    "f.savefig('corr_heatmap_wales.pdf', format = 'pdf',  dpi = 300)"
   ]
  },
  {
   "cell_type": "code",
   "execution_count": 92,
   "metadata": {},
   "outputs": [
    {
     "data": {
      "text/plain": [
       "Q3_32          0.054539\n",
       "provfd2        0.060356\n",
       "provfd4        0.074794\n",
       "provfd5        0.057431\n",
       "Q4_1_5_comb    0.073593\n",
       "Q4_38          0.064166\n",
       "safemeat2      0.052890\n",
       "Q4_263         0.057061\n",
       "q4_2612        0.050254\n",
       "bpoison        1.000000\n",
       "Q4_26b         0.381508\n",
       "Q4_28a         0.191448\n",
       "Q4_28b1        0.408080\n",
       "Q4_28b2        0.412505\n",
       "Q4_28b3        0.410764\n",
       "Q4_28b4        0.404375\n",
       "Q4_28b5        0.369610\n",
       "Q4_28b6        0.364059\n",
       "Q4_28b7        0.397177\n",
       "Q4_28b8        0.433874\n",
       "Name: 340, dtype: float64"
      ]
     },
     "execution_count": 92,
     "metadata": {},
     "output_type": "execute_result"
    }
   ],
   "source": [
    "#Using Pearson Correlation\n",
    "cor = data_wales.corr()\n",
    "\n",
    "from sklearn.feature_selection import RFE\n",
    "\n",
    "#Correlation with output variable\n",
    "cor_target = abs(cor[340])\n",
    "\n",
    "#To see the column name, instead of the index\n",
    "cor_target.index = list(data.columns)\n",
    "\n",
    "#Selecting highly correlated features\n",
    "relevant_features = cor_target[cor_target>0.05]\n",
    "\n",
    "relevant_features\n"
   ]
  }
 ],
 "metadata": {
  "kernelspec": {
   "display_name": "Python 3",
   "language": "python",
   "name": "python3"
  },
  "language_info": {
   "codemirror_mode": {
    "name": "ipython",
    "version": 3
   },
   "file_extension": ".py",
   "mimetype": "text/x-python",
   "name": "python",
   "nbconvert_exporter": "python",
   "pygments_lexer": "ipython3",
   "version": "3.7.4"
  }
 },
 "nbformat": 4,
 "nbformat_minor": 2
}
