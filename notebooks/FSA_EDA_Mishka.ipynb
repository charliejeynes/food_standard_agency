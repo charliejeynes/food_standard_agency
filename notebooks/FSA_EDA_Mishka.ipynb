{
 "cells": [
  {
   "cell_type": "code",
   "execution_count": 68,
   "metadata": {},
   "outputs": [],
   "source": [
    "import pandas as pd\n",
    "import numpy as np\n",
    "import sklearn as sk\n",
    "import matplotlib as mat\n",
    "import matplotlib.pyplot as plt\n",
    "from matplotlib import rc\n",
    "from matplotlib.pyplot import figure\n",
    "from sklearn import preprocessing"
   ]
  },
  {
   "cell_type": "code",
   "execution_count": 3,
   "metadata": {},
   "outputs": [
    {
     "data": {
      "text/plain": [
       "'/Users/mihaelanemes/Desktop/s2ds/code/fsa_mar20/notebooks'"
      ]
     },
     "execution_count": 3,
     "metadata": {},
     "output_type": "execute_result"
    }
   ],
   "source": [
    "pwd"
   ]
  },
  {
   "cell_type": "code",
   "execution_count": 4,
   "metadata": {},
   "outputs": [
    {
     "name": "stdout",
     "output_type": "stream",
     "text": [
      "/Users/mihaelanemes/Desktop/s2ds/data/Data\n"
     ]
    }
   ],
   "source": [
    "cd /Users/mihaelanemes/Desktop/s2ds/data/Data/"
   ]
  },
  {
   "cell_type": "code",
   "execution_count": 5,
   "metadata": {},
   "outputs": [
    {
     "name": "stdout",
     "output_type": "stream",
     "text": [
      "      SerialNo  RespSex  age_dv  bhhsize2  below6  below16  marstat2  hhdinc  \\\n",
      "0       100027        2      -1        -1      -1        1         1       3   \n",
      "1       100037        2      -1        -1      -1        2         1      -9   \n",
      "2       100129        2      -1        -1      -1        2         1       4   \n",
      "3       100130        1      -1        -1      -1        2         1       4   \n",
      "4       100285        2      -1        -1      -1        2         1       4   \n",
      "5       100314        1      -1        -1      -1        1         1       2   \n",
      "6       100406        2      -1        -1      -1        2         2       2   \n",
      "7       100591        2      -1        -1      -1        2         1      -9   \n",
      "8       100815        2      -1        -1      -1        2         2       1   \n",
      "9       100969        1      -1        -1      -1        2         2      -9   \n",
      "10      101144        2      -1        -1      -1        1         1      -9   \n",
      "11      101169        2      -1        -1      -1        2         1       3   \n",
      "12      101189        2      -1        -1      -1        2         2       4   \n",
      "13      101196        2      -1        -1      -1        1         2       1   \n",
      "14      101284        2      -1        -1      -1        2         2       1   \n",
      "15      101316        2      -1        -1      -1        2         1       3   \n",
      "16      101481        2      -1        -1      -1        2         1       3   \n",
      "17      101696        1      -1        -1      -1        2         1       1   \n",
      "18      101926        1      -1        -1      -1        2         1       3   \n",
      "19      102129        1      -1        -1      -1        2         1       2   \n",
      "20      102734        1      -1        -1      -1        2         1      -9   \n",
      "21      102789        1      -1        -1      -1        2         2      -9   \n",
      "22      103010        2      -1        -1      -1        2         2       1   \n",
      "23      103034        1      -1        -1      -1        2         2      -9   \n",
      "24      103177        1      -1        -1      -1        1         2       2   \n",
      "25      103452        1      -1        -1      -1        2         2       1   \n",
      "26      103470        1      -1        -1      -1        2         1      -9   \n",
      "27      103540        2      -1        -1      -1        1         1       3   \n",
      "28      103589        2      -1        -1      -1        2         2       1   \n",
      "29      103685        2      -1        -1      -1        2         2       1   \n",
      "...        ...      ...     ...       ...     ...      ...       ...     ...   \n",
      "1727    513665        1       3         4       1        1         1       3   \n",
      "1728    513674        2       4         2       2        1         2       2   \n",
      "1729    513713        1       5         2       2        2         1       4   \n",
      "1730    513717        2       7         1       2        2         2       1   \n",
      "1731    513722        1       3         3       2        1         1       4   \n",
      "1732    513726        2       4         3       2        2         1       2   \n",
      "1733    513751        2       7         1       2        2         2       2   \n",
      "1734    513785        2       7         2       2        2         1       2   \n",
      "1735    513814        2       1         2       2        1         2       1   \n",
      "1736    513849        2       6         2       2        2         1       1   \n",
      "1737    513898        2       6         1       2        2         2       2   \n",
      "1738    513910        1       7         2       2        2         1       2   \n",
      "1739    513959        2       7         1       2        2         2       1   \n",
      "1740    514029        2       5         1       2        2         2       2   \n",
      "1741    514057        2       7         1       2        2         2      -9   \n",
      "1742    514058        2       4         2       2        1         2       2   \n",
      "1743    514059        2       2         3       1        1         1       2   \n",
      "1744    514115        1       2         3       2        1         1       2   \n",
      "1745    514153        2       3         4       1        1         1       4   \n",
      "1746    514154        2       5         2       2        2         1       2   \n",
      "1747    514162        2       6         2       2        2         1      -9   \n",
      "1748    514179        2       1         4       1        1         1       1   \n",
      "1749    514245        2       4         3       2        2         2       2   \n",
      "1750    514262        2       7         1       2        2         2      -9   \n",
      "1751    514290        1       7         2       2        2         1       2   \n",
      "1752    514303        1       3         3       2        1         2       3   \n",
      "1753    514328        2       4         2       2        2         2      -9   \n",
      "1754    514342        1       3         1       2        2         2      -9   \n",
      "1755    514440        2       6         2       2        2         1       3   \n",
      "1756    514509        2       2         3       1        1         2       1   \n",
      "\n",
      "      workstat2  region_dv  ...  Label  FdAuthAct_MC1  FdAuthAct_MC2  \\\n",
      "0            -1         10  ...     -1             -1             -1   \n",
      "1            -1         10  ...     -1             -1             -1   \n",
      "2            -1         10  ...     -1             -1             -1   \n",
      "3            -1         10  ...     -1             -1             -1   \n",
      "4            -1         10  ...     -1             -1             -1   \n",
      "5            -1         10  ...     -1             -1             -1   \n",
      "6            -1         10  ...     -1             -1             -1   \n",
      "7            -1         10  ...     -1             -1             -1   \n",
      "8            -1         10  ...     -1             -1             -1   \n",
      "9            -1         10  ...     -1             -1             -1   \n",
      "10           -1         10  ...     -1             -1             -1   \n",
      "11           -1         10  ...     -1             -1             -1   \n",
      "12           -1         10  ...     -1             -1             -1   \n",
      "13           -1         10  ...     -1             -1             -1   \n",
      "14           -1         10  ...     -1             -1             -1   \n",
      "15           -1         10  ...     -1             -1             -1   \n",
      "16           -1         10  ...     -1             -1             -1   \n",
      "17           -1         10  ...     -1             -1             -1   \n",
      "18           -1         10  ...     -1             -1             -1   \n",
      "19           -1         10  ...     -1             -1             -1   \n",
      "20           -1         10  ...     -1             -1             -1   \n",
      "21           -1         10  ...     -1             -1             -1   \n",
      "22           -1         10  ...     -1             -1             -1   \n",
      "23           -1         10  ...     -1             -1             -1   \n",
      "24           -1         10  ...     -1             -1             -1   \n",
      "25           -1         10  ...     -1             -1             -1   \n",
      "26           -1         10  ...     -1             -1             -1   \n",
      "27           -1         10  ...     -1             -1             -1   \n",
      "28           -1         10  ...     -1             -1             -1   \n",
      "29           -1         10  ...     -1             -1             -1   \n",
      "...         ...        ...  ...    ...            ...            ...   \n",
      "1727          1         10  ...      2              0              0   \n",
      "1728          3         10  ...      2              0              0   \n",
      "1729          1         10  ...      1             -1             -1   \n",
      "1730          2         10  ...      1             -1             -1   \n",
      "1731          1         10  ...      2              0              1   \n",
      "1732          1         10  ...      2              0              0   \n",
      "1733          1         10  ...      2              0              0   \n",
      "1734          3         10  ...      2              0              0   \n",
      "1735          3         10  ...      2              0              0   \n",
      "1736          2         10  ...      2              0              0   \n",
      "1737          1         10  ...      2              0              0   \n",
      "1738          1         10  ...      4              0              0   \n",
      "1739          2         10  ...      2              0              0   \n",
      "1740          3         10  ...      2              0              0   \n",
      "1741          2         10  ...      1             -1             -1   \n",
      "1742          1         10  ...      2              0              0   \n",
      "1743          3         10  ...      1             -1             -1   \n",
      "1744          3         10  ...      2              0              0   \n",
      "1745          3         10  ...      2              0              0   \n",
      "1746          1         10  ...      2              0              0   \n",
      "1747          2         10  ...      1             -1             -1   \n",
      "1748          3         10  ...      2              0              1   \n",
      "1749          3         10  ...      1             -1             -1   \n",
      "1750          2         10  ...      1             -1             -1   \n",
      "1751          2         10  ...      1             -1             -1   \n",
      "1752          1         10  ...      2              1              0   \n",
      "1753          1         10  ...      1             -1             -1   \n",
      "1754          1         10  ...      1             -1             -1   \n",
      "1755          2         10  ...      1             -1             -1   \n",
      "1756          3         10  ...      3              0              0   \n",
      "\n",
      "      FdAuthAct_MC3  FdAuthAct_MC4  FdAuthAct_MC5  FdAuthAct_MC6  \\\n",
      "0                -1             -1             -1             -1   \n",
      "1                -1             -1             -1             -1   \n",
      "2                -1             -1             -1             -1   \n",
      "3                -1             -1             -1             -1   \n",
      "4                -1             -1             -1             -1   \n",
      "5                -1             -1             -1             -1   \n",
      "6                -1             -1             -1             -1   \n",
      "7                -1             -1             -1             -1   \n",
      "8                -1             -1             -1             -1   \n",
      "9                -1             -1             -1             -1   \n",
      "10               -1             -1             -1             -1   \n",
      "11               -1             -1             -1             -1   \n",
      "12               -1             -1             -1             -1   \n",
      "13               -1             -1             -1             -1   \n",
      "14               -1             -1             -1             -1   \n",
      "15               -1             -1             -1             -1   \n",
      "16               -1             -1             -1             -1   \n",
      "17               -1             -1             -1             -1   \n",
      "18               -1             -1             -1             -1   \n",
      "19               -1             -1             -1             -1   \n",
      "20               -1             -1             -1             -1   \n",
      "21               -1             -1             -1             -1   \n",
      "22               -1             -1             -1             -1   \n",
      "23               -1             -1             -1             -1   \n",
      "24               -1             -1             -1             -1   \n",
      "25               -1             -1             -1             -1   \n",
      "26               -1             -1             -1             -1   \n",
      "27               -1             -1             -1             -1   \n",
      "28               -1             -1             -1             -1   \n",
      "29               -1             -1             -1             -1   \n",
      "...             ...            ...            ...            ...   \n",
      "1727              0              0              0              1   \n",
      "1728              0              0              0              0   \n",
      "1729             -1             -1             -1             -1   \n",
      "1730             -1             -1             -1             -1   \n",
      "1731              1              0              0              0   \n",
      "1732              0              0              0              0   \n",
      "1733              0              0              0              0   \n",
      "1734              1              0              0              0   \n",
      "1735              0              0              0              0   \n",
      "1736              0              0              0              0   \n",
      "1737              0              0              0              0   \n",
      "1738              0              0              0              1   \n",
      "1739              0              0              0              0   \n",
      "1740              0              0              0              0   \n",
      "1741             -1             -1             -1             -1   \n",
      "1742              0              0              0              1   \n",
      "1743             -1             -1             -1             -1   \n",
      "1744              1              0              0              0   \n",
      "1745              0              0              0              0   \n",
      "1746              1              0              0              0   \n",
      "1747             -1             -1             -1             -1   \n",
      "1748              1              1              0              1   \n",
      "1749             -1             -1             -1             -1   \n",
      "1750             -1             -1             -1             -1   \n",
      "1751             -1             -1             -1             -1   \n",
      "1752              0              0              0              0   \n",
      "1753             -1             -1             -1             -1   \n",
      "1754             -1             -1             -1             -1   \n",
      "1755             -1             -1             -1             -1   \n",
      "1756              0              0              0              0   \n",
      "\n",
      "      FdAuthAct_MC7  FdAuthAct_MC8  FdAuthAct_MC9  \n",
      "0                -1             -1             -1  \n",
      "1                -1             -1             -1  \n",
      "2                -1             -1             -1  \n",
      "3                -1             -1             -1  \n",
      "4                -1             -1             -1  \n",
      "5                -1             -1             -1  \n",
      "6                -1             -1             -1  \n",
      "7                -1             -1             -1  \n",
      "8                -1             -1             -1  \n",
      "9                -1             -1             -1  \n",
      "10               -1             -1             -1  \n",
      "11               -1             -1             -1  \n",
      "12               -1             -1             -1  \n",
      "13               -1             -1             -1  \n",
      "14               -1             -1             -1  \n",
      "15               -1             -1             -1  \n",
      "16               -1             -1             -1  \n",
      "17               -1             -1             -1  \n",
      "18               -1             -1             -1  \n",
      "19               -1             -1             -1  \n",
      "20               -1             -1             -1  \n",
      "21               -1             -1             -1  \n",
      "22               -1             -1             -1  \n",
      "23               -1             -1             -1  \n",
      "24               -1             -1             -1  \n",
      "25               -1             -1             -1  \n",
      "26               -1             -1             -1  \n",
      "27               -1             -1             -1  \n",
      "28               -1             -1             -1  \n",
      "29               -1             -1             -1  \n",
      "...             ...            ...            ...  \n",
      "1727              0              0              0  \n",
      "1728              0              0              1  \n",
      "1729             -1             -1             -1  \n",
      "1730             -1             -1             -1  \n",
      "1731              0              0              0  \n",
      "1732              0              0              1  \n",
      "1733              0              0              1  \n",
      "1734              0              0              0  \n",
      "1735              0              0              1  \n",
      "1736              0              0              1  \n",
      "1737              1              0              0  \n",
      "1738              1              0              0  \n",
      "1739              0              0              1  \n",
      "1740              0              0              1  \n",
      "1741             -1             -1             -1  \n",
      "1742              0              0              0  \n",
      "1743             -1             -1             -1  \n",
      "1744              0              0              0  \n",
      "1745              0              0              1  \n",
      "1746              1              0              0  \n",
      "1747             -1             -1             -1  \n",
      "1748              1              0              0  \n",
      "1749             -1             -1             -1  \n",
      "1750             -1             -1             -1  \n",
      "1751             -1             -1             -1  \n",
      "1752              0              0              0  \n",
      "1753             -1             -1             -1  \n",
      "1754             -1             -1             -1  \n",
      "1755             -1             -1             -1  \n",
      "1756              0              0              1  \n",
      "\n",
      "[1757 rows x 502 columns]\n"
     ]
    }
   ],
   "source": [
    "food_and_you_wales = pd.read_csv(\"food_and_you_all_waves_wales.csv\")\n",
    "print (food_and_you_wales)"
   ]
  },
  {
   "cell_type": "code",
   "execution_count": 6,
   "metadata": {},
   "outputs": [],
   "source": [
    "# save outcome variable in new object\n",
    "\n",
    "food_poisoning_last_year = pd.DataFrame(food_and_you_wales, columns=[\"bpoison\"])\n"
   ]
  },
  {
   "cell_type": "code",
   "execution_count": 7,
   "metadata": {},
   "outputs": [
    {
     "name": "stdout",
     "output_type": "stream",
     "text": [
      "SerialNo              1757\n",
      "RespSex               1757\n",
      "age_dv                1757\n",
      "bhhsize2              1757\n",
      "below6                1757\n",
      "below16               1757\n",
      "marstat2              1757\n",
      "hhdinc                1757\n",
      "workstat2             1757\n",
      "region_dv             1757\n",
      "religion_dv           1757\n",
      "wimd_2014_quintile    1757\n",
      "nimd_2010_quintile    1757\n",
      "nimd2017_quintile     1757\n",
      "UrbanRuralInd         1757\n",
      "surveyyear            1757\n",
      "country_dv            1757\n",
      "psu_dv                1757\n",
      "stratum_all_dv        1757\n",
      "combinedW1_5weight    1757\n",
      "countryW1_5weight     1757\n",
      "CkRes                 1757\n",
      "resfdprp              1757\n",
      "CkFreq                1757\n",
      "bcook3                1757\n",
      "dietary               1757\n",
      "fdreac_dv             1757\n",
      "reacalle              1757\n",
      "reacint               1757\n",
      "reaccoe               1757\n",
      "                      ... \n",
      "HeardFSA              1757\n",
      "C1                    1757\n",
      "C2                    1757\n",
      "C3                    1757\n",
      "C4                    1757\n",
      "C5                    1757\n",
      "C6                    1757\n",
      "C7                    1757\n",
      "c1dv                  1757\n",
      "c2dv                  1757\n",
      "c3dv                  1757\n",
      "c4dv                  1757\n",
      "c5dv                  1757\n",
      "c6dv                  1757\n",
      "c7dv                  1757\n",
      "D1                    1757\n",
      "D2                    1757\n",
      "D3                    1757\n",
      "D4                    1757\n",
      "D5                    1757\n",
      "Label                 1757\n",
      "FdAuthAct_MC1         1757\n",
      "FdAuthAct_MC2         1757\n",
      "FdAuthAct_MC3         1757\n",
      "FdAuthAct_MC4         1757\n",
      "FdAuthAct_MC5         1757\n",
      "FdAuthAct_MC6         1757\n",
      "FdAuthAct_MC7         1757\n",
      "FdAuthAct_MC8         1757\n",
      "FdAuthAct_MC9         1757\n",
      "Length: 502, dtype: int64\n"
     ]
    }
   ],
   "source": [
    "# check no of values in each column\n",
    "\n",
    "print(food_and_you_wales.count())\n"
   ]
  },
  {
   "cell_type": "code",
   "execution_count": 8,
   "metadata": {},
   "outputs": [
    {
     "data": {
      "text/plain": [
       "1757"
      ]
     },
     "execution_count": 8,
     "metadata": {},
     "output_type": "execute_result"
    }
   ],
   "source": [
    "# calculate length of rows \n",
    "\n",
    "no_rows = len (food_and_you_wales)\n",
    "no_rows"
   ]
  },
  {
   "cell_type": "code",
   "execution_count": 39,
   "metadata": {},
   "outputs": [
    {
     "ename": "KeyError",
     "evalue": "0",
     "output_type": "error",
     "traceback": [
      "\u001b[0;31m---------------------------------------------------------------------------\u001b[0m",
      "\u001b[0;31mKeyError\u001b[0m                                  Traceback (most recent call last)",
      "\u001b[0;32m~/anaconda3/lib/python3.7/site-packages/pandas/core/indexes/base.py\u001b[0m in \u001b[0;36mget_loc\u001b[0;34m(self, key, method, tolerance)\u001b[0m\n\u001b[1;32m   2656\u001b[0m             \u001b[0;32mtry\u001b[0m\u001b[0;34m:\u001b[0m\u001b[0;34m\u001b[0m\u001b[0;34m\u001b[0m\u001b[0m\n\u001b[0;32m-> 2657\u001b[0;31m                 \u001b[0;32mreturn\u001b[0m \u001b[0mself\u001b[0m\u001b[0;34m.\u001b[0m\u001b[0m_engine\u001b[0m\u001b[0;34m.\u001b[0m\u001b[0mget_loc\u001b[0m\u001b[0;34m(\u001b[0m\u001b[0mkey\u001b[0m\u001b[0;34m)\u001b[0m\u001b[0;34m\u001b[0m\u001b[0;34m\u001b[0m\u001b[0m\n\u001b[0m\u001b[1;32m   2658\u001b[0m             \u001b[0;32mexcept\u001b[0m \u001b[0mKeyError\u001b[0m\u001b[0;34m:\u001b[0m\u001b[0;34m\u001b[0m\u001b[0;34m\u001b[0m\u001b[0m\n",
      "\u001b[0;32mpandas/_libs/index.pyx\u001b[0m in \u001b[0;36mpandas._libs.index.IndexEngine.get_loc\u001b[0;34m()\u001b[0m\n",
      "\u001b[0;32mpandas/_libs/index.pyx\u001b[0m in \u001b[0;36mpandas._libs.index.IndexEngine.get_loc\u001b[0;34m()\u001b[0m\n",
      "\u001b[0;32mpandas/_libs/hashtable_class_helper.pxi\u001b[0m in \u001b[0;36mpandas._libs.hashtable.PyObjectHashTable.get_item\u001b[0;34m()\u001b[0m\n",
      "\u001b[0;32mpandas/_libs/hashtable_class_helper.pxi\u001b[0m in \u001b[0;36mpandas._libs.hashtable.PyObjectHashTable.get_item\u001b[0;34m()\u001b[0m\n",
      "\u001b[0;31mKeyError\u001b[0m: 0",
      "\nDuring handling of the above exception, another exception occurred:\n",
      "\u001b[0;31mKeyError\u001b[0m                                  Traceback (most recent call last)",
      "\u001b[0;32m<ipython-input-39-f1660dc316c8>\u001b[0m in \u001b[0;36m<module>\u001b[0;34m\u001b[0m\n\u001b[1;32m      1\u001b[0m \u001b[0;31m# calculate length of columns\u001b[0m\u001b[0;34m\u001b[0m\u001b[0;34m\u001b[0m\u001b[0;34m\u001b[0m\u001b[0m\n\u001b[1;32m      2\u001b[0m \u001b[0;34m\u001b[0m\u001b[0m\n\u001b[0;32m----> 3\u001b[0;31m \u001b[0mno_columns\u001b[0m \u001b[0;34m=\u001b[0m \u001b[0mlen\u001b[0m \u001b[0;34m(\u001b[0m\u001b[0mfood_and_you_wales\u001b[0m \u001b[0;34m[\u001b[0m\u001b[0;36m0\u001b[0m\u001b[0;34m]\u001b[0m\u001b[0;34m)\u001b[0m\u001b[0;34m\u001b[0m\u001b[0;34m\u001b[0m\u001b[0m\n\u001b[0m\u001b[1;32m      4\u001b[0m \u001b[0mno_columns\u001b[0m\u001b[0;34m\u001b[0m\u001b[0;34m\u001b[0m\u001b[0m\n",
      "\u001b[0;32m~/anaconda3/lib/python3.7/site-packages/pandas/core/frame.py\u001b[0m in \u001b[0;36m__getitem__\u001b[0;34m(self, key)\u001b[0m\n\u001b[1;32m   2925\u001b[0m             \u001b[0;32mif\u001b[0m \u001b[0mself\u001b[0m\u001b[0;34m.\u001b[0m\u001b[0mcolumns\u001b[0m\u001b[0;34m.\u001b[0m\u001b[0mnlevels\u001b[0m \u001b[0;34m>\u001b[0m \u001b[0;36m1\u001b[0m\u001b[0;34m:\u001b[0m\u001b[0;34m\u001b[0m\u001b[0;34m\u001b[0m\u001b[0m\n\u001b[1;32m   2926\u001b[0m                 \u001b[0;32mreturn\u001b[0m \u001b[0mself\u001b[0m\u001b[0;34m.\u001b[0m\u001b[0m_getitem_multilevel\u001b[0m\u001b[0;34m(\u001b[0m\u001b[0mkey\u001b[0m\u001b[0;34m)\u001b[0m\u001b[0;34m\u001b[0m\u001b[0;34m\u001b[0m\u001b[0m\n\u001b[0;32m-> 2927\u001b[0;31m             \u001b[0mindexer\u001b[0m \u001b[0;34m=\u001b[0m \u001b[0mself\u001b[0m\u001b[0;34m.\u001b[0m\u001b[0mcolumns\u001b[0m\u001b[0;34m.\u001b[0m\u001b[0mget_loc\u001b[0m\u001b[0;34m(\u001b[0m\u001b[0mkey\u001b[0m\u001b[0;34m)\u001b[0m\u001b[0;34m\u001b[0m\u001b[0;34m\u001b[0m\u001b[0m\n\u001b[0m\u001b[1;32m   2928\u001b[0m             \u001b[0;32mif\u001b[0m \u001b[0mis_integer\u001b[0m\u001b[0;34m(\u001b[0m\u001b[0mindexer\u001b[0m\u001b[0;34m)\u001b[0m\u001b[0;34m:\u001b[0m\u001b[0;34m\u001b[0m\u001b[0;34m\u001b[0m\u001b[0m\n\u001b[1;32m   2929\u001b[0m                 \u001b[0mindexer\u001b[0m \u001b[0;34m=\u001b[0m \u001b[0;34m[\u001b[0m\u001b[0mindexer\u001b[0m\u001b[0;34m]\u001b[0m\u001b[0;34m\u001b[0m\u001b[0;34m\u001b[0m\u001b[0m\n",
      "\u001b[0;32m~/anaconda3/lib/python3.7/site-packages/pandas/core/indexes/base.py\u001b[0m in \u001b[0;36mget_loc\u001b[0;34m(self, key, method, tolerance)\u001b[0m\n\u001b[1;32m   2657\u001b[0m                 \u001b[0;32mreturn\u001b[0m \u001b[0mself\u001b[0m\u001b[0;34m.\u001b[0m\u001b[0m_engine\u001b[0m\u001b[0;34m.\u001b[0m\u001b[0mget_loc\u001b[0m\u001b[0;34m(\u001b[0m\u001b[0mkey\u001b[0m\u001b[0;34m)\u001b[0m\u001b[0;34m\u001b[0m\u001b[0;34m\u001b[0m\u001b[0m\n\u001b[1;32m   2658\u001b[0m             \u001b[0;32mexcept\u001b[0m \u001b[0mKeyError\u001b[0m\u001b[0;34m:\u001b[0m\u001b[0;34m\u001b[0m\u001b[0;34m\u001b[0m\u001b[0m\n\u001b[0;32m-> 2659\u001b[0;31m                 \u001b[0;32mreturn\u001b[0m \u001b[0mself\u001b[0m\u001b[0;34m.\u001b[0m\u001b[0m_engine\u001b[0m\u001b[0;34m.\u001b[0m\u001b[0mget_loc\u001b[0m\u001b[0;34m(\u001b[0m\u001b[0mself\u001b[0m\u001b[0;34m.\u001b[0m\u001b[0m_maybe_cast_indexer\u001b[0m\u001b[0;34m(\u001b[0m\u001b[0mkey\u001b[0m\u001b[0;34m)\u001b[0m\u001b[0;34m)\u001b[0m\u001b[0;34m\u001b[0m\u001b[0;34m\u001b[0m\u001b[0m\n\u001b[0m\u001b[1;32m   2660\u001b[0m         \u001b[0mindexer\u001b[0m \u001b[0;34m=\u001b[0m \u001b[0mself\u001b[0m\u001b[0;34m.\u001b[0m\u001b[0mget_indexer\u001b[0m\u001b[0;34m(\u001b[0m\u001b[0;34m[\u001b[0m\u001b[0mkey\u001b[0m\u001b[0;34m]\u001b[0m\u001b[0;34m,\u001b[0m \u001b[0mmethod\u001b[0m\u001b[0;34m=\u001b[0m\u001b[0mmethod\u001b[0m\u001b[0;34m,\u001b[0m \u001b[0mtolerance\u001b[0m\u001b[0;34m=\u001b[0m\u001b[0mtolerance\u001b[0m\u001b[0;34m)\u001b[0m\u001b[0;34m\u001b[0m\u001b[0;34m\u001b[0m\u001b[0m\n\u001b[1;32m   2661\u001b[0m         \u001b[0;32mif\u001b[0m \u001b[0mindexer\u001b[0m\u001b[0;34m.\u001b[0m\u001b[0mndim\u001b[0m \u001b[0;34m>\u001b[0m \u001b[0;36m1\u001b[0m \u001b[0;32mor\u001b[0m \u001b[0mindexer\u001b[0m\u001b[0;34m.\u001b[0m\u001b[0msize\u001b[0m \u001b[0;34m>\u001b[0m \u001b[0;36m1\u001b[0m\u001b[0;34m:\u001b[0m\u001b[0;34m\u001b[0m\u001b[0;34m\u001b[0m\u001b[0m\n",
      "\u001b[0;32mpandas/_libs/index.pyx\u001b[0m in \u001b[0;36mpandas._libs.index.IndexEngine.get_loc\u001b[0;34m()\u001b[0m\n",
      "\u001b[0;32mpandas/_libs/index.pyx\u001b[0m in \u001b[0;36mpandas._libs.index.IndexEngine.get_loc\u001b[0;34m()\u001b[0m\n",
      "\u001b[0;32mpandas/_libs/hashtable_class_helper.pxi\u001b[0m in \u001b[0;36mpandas._libs.hashtable.PyObjectHashTable.get_item\u001b[0;34m()\u001b[0m\n",
      "\u001b[0;32mpandas/_libs/hashtable_class_helper.pxi\u001b[0m in \u001b[0;36mpandas._libs.hashtable.PyObjectHashTable.get_item\u001b[0;34m()\u001b[0m\n",
      "\u001b[0;31mKeyError\u001b[0m: 0"
     ]
    }
   ],
   "source": [
    "# calculate length of columns \n",
    "\n",
    "no_columns = len (food_and_you_wales [0])\n",
    "no_columns"
   ]
  },
  {
   "cell_type": "code",
   "execution_count": 9,
   "metadata": {},
   "outputs": [],
   "source": [
    "# remove values that are 'refused to answer', 'unknown' etc as nan\n",
    "\n",
    "food_and_you_wales = food_and_you_wales.replace ([-9, -8, -1, 98], np.nan)    "
   ]
  },
  {
   "cell_type": "code",
   "execution_count": 10,
   "metadata": {},
   "outputs": [],
   "source": [
    "# replace 'not applicable' in specific columns\n",
    "\n",
    "cols = ['q4_1_4', 'q4_1_5a', 'Q4_1_5_comb', 'q4_1_6', 'q4_1_7', 'q4_1_8a', 'q4_1_8b', 'sanspray', 'q4_1_11',\n",
    "        'q4_1_12', 'q4_1_13', 'q4_1_14', 'q4_1_15', 'q4_1_16', 'q4_1_17', 'q4_1_18', 'q4_1_19']\n",
    "\n",
    "food_and_you_wales[cols] = food_and_you_wales[cols].replace([5], np.nan)\n"
   ]
  },
  {
   "cell_type": "code",
   "execution_count": 11,
   "metadata": {},
   "outputs": [
    {
     "name": "stdout",
     "output_type": "stream",
     "text": [
      "SerialNo              1757\n",
      "RespSex               1757\n",
      "age_dv                1029\n",
      "bhhsize2               540\n",
      "below6                1027\n",
      "below16               1755\n",
      "marstat2              1754\n",
      "hhdinc                1332\n",
      "workstat2              540\n",
      "region_dv             1757\n",
      "religion_dv           1748\n",
      "wimd_2014_quintile    1029\n",
      "nimd_2010_quintile       0\n",
      "nimd2017_quintile        0\n",
      "UrbanRuralInd         1757\n",
      "surveyyear            1757\n",
      "country_dv            1757\n",
      "psu_dv                1757\n",
      "stratum_all_dv        1757\n",
      "combinedW1_5weight    1757\n",
      "countryW1_5weight     1757\n",
      "CkRes                 1029\n",
      "resfdprp              1029\n",
      "CkFreq                1029\n",
      "bcook3                1029\n",
      "dietary               1757\n",
      "fdreac_dv             1029\n",
      "reacalle               196\n",
      "reacint                196\n",
      "reaccoe                196\n",
      "                      ... \n",
      "HeardFSA               540\n",
      "C1                     509\n",
      "C2                     517\n",
      "C3                     507\n",
      "C4                     517\n",
      "C5                     508\n",
      "C6                     480\n",
      "C7                     508\n",
      "c1dv                   509\n",
      "c2dv                   517\n",
      "c3dv                   507\n",
      "c4dv                   517\n",
      "c5dv                   508\n",
      "c6dv                   480\n",
      "c7dv                   508\n",
      "D1                     524\n",
      "D2                     520\n",
      "D3                     513\n",
      "D4                     509\n",
      "D5                     532\n",
      "Label                 1028\n",
      "FdAuthAct_MC1          717\n",
      "FdAuthAct_MC2          717\n",
      "FdAuthAct_MC3          717\n",
      "FdAuthAct_MC4          717\n",
      "FdAuthAct_MC5          717\n",
      "FdAuthAct_MC6          717\n",
      "FdAuthAct_MC7          717\n",
      "FdAuthAct_MC8          717\n",
      "FdAuthAct_MC9          717\n",
      "Length: 502, dtype: int64\n"
     ]
    }
   ],
   "source": [
    "# check no of nans in each column\n",
    "\n",
    "print(food_and_you_wales.count())"
   ]
  },
  {
   "cell_type": "code",
   "execution_count": 12,
   "metadata": {},
   "outputs": [],
   "source": [
    "# save responses from each wave in a new matrix variable\n",
    "\n",
    "wave1 = [1]\n",
    "food_and_you_wales_wave1 = food_and_you_wales.loc [food_and_you_wales['surveyyear'].isin(wave1)]\n",
    "\n",
    "wave2 = [2]\n",
    "food_and_you_wales_wave2 = food_and_you_wales.loc [food_and_you_wales['surveyyear'].isin(wave2)]\n",
    "\n",
    "wave3 = [3]\n",
    "food_and_you_wales_wave3 = food_and_you_wales.loc [food_and_you_wales['surveyyear'].isin(wave3)]\n",
    "\n",
    "wave4 = [4]\n",
    "food_and_you_wales_wave4 = food_and_you_wales.loc [food_and_you_wales['surveyyear'].isin(wave4)]\n",
    "\n",
    "wave5 = [5]\n",
    "food_and_you_wales_wave5 = food_and_you_wales.loc [food_and_you_wales['surveyyear'].isin(wave5)]\n"
   ]
  },
  {
   "cell_type": "code",
   "execution_count": 13,
   "metadata": {},
   "outputs": [],
   "source": [
    "# create var to save all waves in one place\n",
    "\n",
    "all_waves = ['food_and_you_wales_wave1', 'food_and_you_wales_wave2', 'food_and_you_wales_wave3',\n",
    "            'food_and_you_wales_wave4', 'food_and_you_wales_wave5']\n"
   ]
  },
  {
   "cell_type": "code",
   "execution_count": 14,
   "metadata": {},
   "outputs": [],
   "source": [
    "# standardize values by column\n",
    "\n",
    "from sklearn import preprocessing\n",
    "food_and_you_wales_std = preprocessing.StandardScaler(food_and_you_wales, with_mean=False)\n"
   ]
  },
  {
   "cell_type": "code",
   "execution_count": 15,
   "metadata": {},
   "outputs": [
    {
     "name": "stdout",
     "output_type": "stream",
     "text": [
      "StandardScaler(copy=      SerialNo  RespSex  age_dv  bhhsize2  below6  below16  marstat2  hhdinc  \\\n",
      "0       100027        2     NaN       NaN     NaN      1.0       1.0     3.0\n",
      "1       100037        2     NaN       NaN     NaN      2.0       1.0     NaN\n",
      "2       100129        2     NaN       NaN     NaN      ... NaN            NaN\n",
      "1756            0.0            0.0            1.0\n",
      "\n",
      "[1757 rows x 502 columns],\n",
      "        with_mean=False, with_std=True)\n"
     ]
    }
   ],
   "source": [
    "print(food_and_you_wales_std)"
   ]
  },
  {
   "cell_type": "code",
   "execution_count": 89,
   "metadata": {},
   "outputs": [],
   "source": [
    "# define var of interest\n",
    "\n",
    "var_interest = food_and_you_wales_wave1['Q4_1_5_comb']\n",
    "\n",
    "# calculate % of each response \n",
    "\n",
    "var_wave1 = food_and_you_wales_wave1['Q4_1_5_comb'].value_counts()/food_and_you_wales_wave1['Q4_1_5_comb'].count()*100\n",
    "var_wave2 = food_and_you_wales_wave2['Q4_1_5_comb'].value_counts()/food_and_you_wales_wave2['Q4_1_5_comb'].count()*100\n",
    "var_wave3 = food_and_you_wales_wave3['Q4_1_5_comb'].value_counts()/food_and_you_wales_wave3['Q4_1_5_comb'].count()*100\n",
    "var_wave4 = food_and_you_wales_wave4['Q4_1_5_comb'].value_counts()/food_and_you_wales_wave4['Q4_1_5_comb'].count()*100\n",
    "var_wave5 = food_and_you_wales_wave5['Q4_1_5_comb'].value_counts()/food_and_you_wales_wave5['Q4_1_5_comb'].count()*100\n"
   ]
  },
  {
   "cell_type": "code",
   "execution_count": 101,
   "metadata": {},
   "outputs": [
    {
     "name": "stdout",
     "output_type": "stream",
     "text": [
      "4.0    59.292035\n",
      "2.0    20.353982\n",
      "1.0    15.929204\n",
      "3.0     4.424779\n",
      "Name: Q4_1_5_comb, dtype: float64\n"
     ]
    }
   ],
   "source": [
    "print (var_wave1)"
   ]
  },
  {
   "cell_type": "code",
   "execution_count": 84,
   "metadata": {},
   "outputs": [
    {
     "name": "stdout",
     "output_type": "stream",
     "text": [
      "[[4.424778761061947, 15.929203539823009, 20.353982300884958, 59.29203539823009], [6.315789473684211, 22.105263157894736, 27.368421052631582, 44.21052631578947], [4.090909090909091, 13.863636363636363, 33.63636363636363, 48.40909090909091], [5.466970387243736, 12.984054669703873, 21.184510250569478, 60.36446469248291], [4.700854700854701, 11.965811965811966, 18.803418803418804, 64.52991452991454]]\n"
     ]
    }
   ],
   "source": [
    "x_axis = [0,1,2,3,4]\n",
    "y_axis = [var_wave1,var_wave2, var_wave3, var_wave4, var_wave5]\n",
    "print(y_axis)"
   ]
  },
  {
   "cell_type": "code",
   "execution_count": 102,
   "metadata": {},
   "outputs": [
    {
     "name": "stdout",
     "output_type": "stream",
     "text": [
      "4.0    59.292035\n",
      "2.0    20.353982\n",
      "1.0    15.929204\n",
      "3.0     4.424779\n",
      "Name: Q4_1_5_comb, dtype: float64\n"
     ]
    }
   ],
   "source": [
    "var_wave1.columns = ['resp', 'percent']\n",
    "print(var_wave1)"
   ]
  },
  {
   "cell_type": "code",
   "execution_count": 100,
   "metadata": {},
   "outputs": [],
   "source": [
    "resp_order = ['1.0', '2.0', '3.0', '4.0']\n"
   ]
  },
  {
   "cell_type": "code",
   "execution_count": 106,
   "metadata": {},
   "outputs": [
    {
     "data": {
      "text/plain": [
       "<bound method Series.sort_values of 4.0    59.292035\n",
       "2.0    20.353982\n",
       "1.0    15.929204\n",
       "3.0     4.424779\n",
       "Name: Q4_1_5_comb, dtype: float64>"
      ]
     },
     "execution_count": 106,
     "metadata": {},
     "output_type": "execute_result"
    }
   ],
   "source": [
    "var_wave1.sort_values"
   ]
  },
  {
   "cell_type": "code",
   "execution_count": 111,
   "metadata": {},
   "outputs": [
    {
     "data": {
      "text/plain": [
       "Text(0.5, 1.0, 'how often do you wash raw meat excl chicken')"
      ]
     },
     "execution_count": 111,
     "metadata": {},
     "output_type": "execute_result"
    },
    {
     "data": {
      "image/png": "[encoded data removed]",
      "text/plain": [
       "<Figure size 432x288 with 1 Axes>"
      ]
     },
     "metadata": {
      "needs_background": "light"
     },
     "output_type": "display_data"
    }
   ],
   "source": [
    "# plot by % - show trend over waves; line plot with percentage for data point and number of responses in brackets \n",
    "# time-series line plot - x-axis: waves; y-axis: %; data point labels: % value and no of responses; \n",
    "# example using data from fig 2.7: Q4_1_5_comb; q4_1_6; q4_1_7; q4_1_8a; q4_1_8b\n",
    "\n",
    "%matplotlib inline\n",
    "# plt.style.use('seaborn-whitegrid'\n",
    "fig_raw_meat = plt.plot (x_axis, y_axis, 'o', linewidth=1.0, linestyle=\"-\")\n",
    "\n",
    "plt.xticks([0, 1, 2, 3, 4],\n",
    "          ['wave_1','wave_2','wave_3','wave_4','wave_5'])\n",
    "plt.ylabel('percentage responses')\n",
    "\n",
    "plt.legend(['Never', 'Sometimes', 'Most of the time', 'Always'], loc='center left', bbox_to_anchor=(1, 0.5))\n",
    "\n",
    "plt.title('how often do you wash raw meat excl chicken')\n",
    "\n"
   ]
  },
  {
   "cell_type": "code",
   "execution_count": null,
   "metadata": {},
   "outputs": [],
   "source": [
    "for x, y in zip(x_axis, y_axis):\n",
    "\n",
    "    label = \"{:.2f}\".format(y)\n",
    "\n",
    "    plt.annotate(label, # this is the text\n",
    "                 (x,y), # this is the point to label\n",
    "                 textcoords=\"offset points\", # how to position the text\n",
    "                 xytext=(0,10), # distance from text to points (x,y)\n",
    "                 ha='center') # horizontal alignment can be left, right or center"
   ]
  },
  {
   "cell_type": "code",
   "execution_count": null,
   "metadata": {},
   "outputs": [],
   "source": [
    "\n"
   ]
  },
  {
   "cell_type": "code",
   "execution_count": null,
   "metadata": {},
   "outputs": [],
   "source": []
  },
  {
   "cell_type": "code",
   "execution_count": null,
   "metadata": {},
   "outputs": [],
   "source": [
    "# create new function to normalise by column between 0 and 1\n",
    "def normalize(df):\n",
    "    result = df.copy()\n",
    "    for feature_name in df.columns:\n",
    "        max_value = df[feature_name].max()\n",
    "        min_value = df[feature_name].min()\n",
    "        result[feature_name] = (df[feature_name] - min_value) / (max_value - min_value)\n",
    "    return result\n"
   ]
  },
  {
   "cell_type": "code",
   "execution_count": 22,
   "metadata": {},
   "outputs": [],
   "source": [
    "# import regression model\n",
    "## could use Recursive feature elimination (?)\n",
    "from sklearn import linear_model\n"
   ]
  },
  {
   "cell_type": "code",
   "execution_count": null,
   "metadata": {},
   "outputs": [],
   "source": []
  },
  {
   "cell_type": "code",
   "execution_count": null,
   "metadata": {},
   "outputs": [],
   "source": []
  }
 ],
 "metadata": {
  "kernelspec": {
   "display_name": "Python 3",
   "language": "python",
   "name": "python3"
  },
  "language_info": {
   "codemirror_mode": {
    "name": "ipython",
    "version": 3
   },
   "file_extension": ".py",
   "mimetype": "text/x-python",
   "name": "python",
   "nbconvert_exporter": "python",
   "pygments_lexer": "ipython3",
   "version": "3.7.3"
  }
 },
 "nbformat": 4,
 "nbformat_minor": 2
}
