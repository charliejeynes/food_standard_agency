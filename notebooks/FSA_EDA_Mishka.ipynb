{
 "cells": [
  {
   "cell_type": "code",
   "execution_count": 5,
   "metadata": {},
   "outputs": [],
   "source": [
    "\n",
    "import pandas as pd\n",
    "import numpy as np\n",
    "import sklearn as sk"
   ]
  },
  {
   "cell_type": "code",
   "execution_count": 15,
   "metadata": {},
   "outputs": [
    {
     "data": {
      "text/plain": [
       "'/Users/mihaelanemes/Desktop/s2ds/data/Data'"
      ]
     },
     "execution_count": 15,
     "metadata": {},
     "output_type": "execute_result"
    }
   ],
   "source": [
    "pwd"
   ]
  },
  {
   "cell_type": "code",
   "execution_count": 14,
   "metadata": {},
   "outputs": [
    {
     "name": "stdout",
     "output_type": "stream",
     "text": [
      "/Users/mihaelanemes/Desktop/s2ds/data/Data\n"
     ]
    }
   ],
   "source": [
    "cd /Users/mihaelanemes/Desktop/s2ds/data/Data/"
   ]
  },
  {
   "cell_type": "code",
   "execution_count": 16,
   "metadata": {},
   "outputs": [
    {
     "name": "stdout",
     "output_type": "stream",
     "text": [
      "      SerialNo  RespSex  age_dv  bhhsize2  below6  below16  marstat2  hhdinc  \\\n",
      "0       100027        2      -1        -1      -1        1         1       3   \n",
      "1       100037        2      -1        -1      -1        2         1      -9   \n",
      "2       100129        2      -1        -1      -1        2         1       4   \n",
      "3       100130        1      -1        -1      -1        2         1       4   \n",
      "4       100285        2      -1        -1      -1        2         1       4   \n",
      "5       100314        1      -1        -1      -1        1         1       2   \n",
      "6       100406        2      -1        -1      -1        2         2       2   \n",
      "7       100591        2      -1        -1      -1        2         1      -9   \n",
      "8       100815        2      -1        -1      -1        2         2       1   \n",
      "9       100969        1      -1        -1      -1        2         2      -9   \n",
      "10      101144        2      -1        -1      -1        1         1      -9   \n",
      "11      101169        2      -1        -1      -1        2         1       3   \n",
      "12      101189        2      -1        -1      -1        2         2       4   \n",
      "13      101196        2      -1        -1      -1        1         2       1   \n",
      "14      101284        2      -1        -1      -1        2         2       1   \n",
      "15      101316        2      -1        -1      -1        2         1       3   \n",
      "16      101481        2      -1        -1      -1        2         1       3   \n",
      "17      101696        1      -1        -1      -1        2         1       1   \n",
      "18      101926        1      -1        -1      -1        2         1       3   \n",
      "19      102129        1      -1        -1      -1        2         1       2   \n",
      "20      102734        1      -1        -1      -1        2         1      -9   \n",
      "21      102789        1      -1        -1      -1        2         2      -9   \n",
      "22      103010        2      -1        -1      -1        2         2       1   \n",
      "23      103034        1      -1        -1      -1        2         2      -9   \n",
      "24      103177        1      -1        -1      -1        1         2       2   \n",
      "25      103452        1      -1        -1      -1        2         2       1   \n",
      "26      103470        1      -1        -1      -1        2         1      -9   \n",
      "27      103540        2      -1        -1      -1        1         1       3   \n",
      "28      103589        2      -1        -1      -1        2         2       1   \n",
      "29      103685        2      -1        -1      -1        2         2       1   \n",
      "...        ...      ...     ...       ...     ...      ...       ...     ...   \n",
      "1727    513665        1       3         4       1        1         1       3   \n",
      "1728    513674        2       4         2       2        1         2       2   \n",
      "1729    513713        1       5         2       2        2         1       4   \n",
      "1730    513717        2       7         1       2        2         2       1   \n",
      "1731    513722        1       3         3       2        1         1       4   \n",
      "1732    513726        2       4         3       2        2         1       2   \n",
      "1733    513751        2       7         1       2        2         2       2   \n",
      "1734    513785        2       7         2       2        2         1       2   \n",
      "1735    513814        2       1         2       2        1         2       1   \n",
      "1736    513849        2       6         2       2        2         1       1   \n",
      "1737    513898        2       6         1       2        2         2       2   \n",
      "1738    513910        1       7         2       2        2         1       2   \n",
      "1739    513959        2       7         1       2        2         2       1   \n",
      "1740    514029        2       5         1       2        2         2       2   \n",
      "1741    514057        2       7         1       2        2         2      -9   \n",
      "1742    514058        2       4         2       2        1         2       2   \n",
      "1743    514059        2       2         3       1        1         1       2   \n",
      "1744    514115        1       2         3       2        1         1       2   \n",
      "1745    514153        2       3         4       1        1         1       4   \n",
      "1746    514154        2       5         2       2        2         1       2   \n",
      "1747    514162        2       6         2       2        2         1      -9   \n",
      "1748    514179        2       1         4       1        1         1       1   \n",
      "1749    514245        2       4         3       2        2         2       2   \n",
      "1750    514262        2       7         1       2        2         2      -9   \n",
      "1751    514290        1       7         2       2        2         1       2   \n",
      "1752    514303        1       3         3       2        1         2       3   \n",
      "1753    514328        2       4         2       2        2         2      -9   \n",
      "1754    514342        1       3         1       2        2         2      -9   \n",
      "1755    514440        2       6         2       2        2         1       3   \n",
      "1756    514509        2       2         3       1        1         2       1   \n",
      "\n",
      "      workstat2  region_dv  ...  Label  FdAuthAct_MC1  FdAuthAct_MC2  \\\n",
      "0            -1         10  ...     -1             -1             -1   \n",
      "1            -1         10  ...     -1             -1             -1   \n",
      "2            -1         10  ...     -1             -1             -1   \n",
      "3            -1         10  ...     -1             -1             -1   \n",
      "4            -1         10  ...     -1             -1             -1   \n",
      "5            -1         10  ...     -1             -1             -1   \n",
      "6            -1         10  ...     -1             -1             -1   \n",
      "7            -1         10  ...     -1             -1             -1   \n",
      "8            -1         10  ...     -1             -1             -1   \n",
      "9            -1         10  ...     -1             -1             -1   \n",
      "10           -1         10  ...     -1             -1             -1   \n",
      "11           -1         10  ...     -1             -1             -1   \n",
      "12           -1         10  ...     -1             -1             -1   \n",
      "13           -1         10  ...     -1             -1             -1   \n",
      "14           -1         10  ...     -1             -1             -1   \n",
      "15           -1         10  ...     -1             -1             -1   \n",
      "16           -1         10  ...     -1             -1             -1   \n",
      "17           -1         10  ...     -1             -1             -1   \n",
      "18           -1         10  ...     -1             -1             -1   \n",
      "19           -1         10  ...     -1             -1             -1   \n",
      "20           -1         10  ...     -1             -1             -1   \n",
      "21           -1         10  ...     -1             -1             -1   \n",
      "22           -1         10  ...     -1             -1             -1   \n",
      "23           -1         10  ...     -1             -1             -1   \n",
      "24           -1         10  ...     -1             -1             -1   \n",
      "25           -1         10  ...     -1             -1             -1   \n",
      "26           -1         10  ...     -1             -1             -1   \n",
      "27           -1         10  ...     -1             -1             -1   \n",
      "28           -1         10  ...     -1             -1             -1   \n",
      "29           -1         10  ...     -1             -1             -1   \n",
      "...         ...        ...  ...    ...            ...            ...   \n",
      "1727          1         10  ...      2              0              0   \n",
      "1728          3         10  ...      2              0              0   \n",
      "1729          1         10  ...      1             -1             -1   \n",
      "1730          2         10  ...      1             -1             -1   \n",
      "1731          1         10  ...      2              0              1   \n",
      "1732          1         10  ...      2              0              0   \n",
      "1733          1         10  ...      2              0              0   \n",
      "1734          3         10  ...      2              0              0   \n",
      "1735          3         10  ...      2              0              0   \n",
      "1736          2         10  ...      2              0              0   \n",
      "1737          1         10  ...      2              0              0   \n",
      "1738          1         10  ...      4              0              0   \n",
      "1739          2         10  ...      2              0              0   \n",
      "1740          3         10  ...      2              0              0   \n",
      "1741          2         10  ...      1             -1             -1   \n",
      "1742          1         10  ...      2              0              0   \n",
      "1743          3         10  ...      1             -1             -1   \n",
      "1744          3         10  ...      2              0              0   \n",
      "1745          3         10  ...      2              0              0   \n",
      "1746          1         10  ...      2              0              0   \n",
      "1747          2         10  ...      1             -1             -1   \n",
      "1748          3         10  ...      2              0              1   \n",
      "1749          3         10  ...      1             -1             -1   \n",
      "1750          2         10  ...      1             -1             -1   \n",
      "1751          2         10  ...      1             -1             -1   \n",
      "1752          1         10  ...      2              1              0   \n",
      "1753          1         10  ...      1             -1             -1   \n",
      "1754          1         10  ...      1             -1             -1   \n",
      "1755          2         10  ...      1             -1             -1   \n",
      "1756          3         10  ...      3              0              0   \n",
      "\n",
      "      FdAuthAct_MC3  FdAuthAct_MC4  FdAuthAct_MC5  FdAuthAct_MC6  \\\n",
      "0                -1             -1             -1             -1   \n",
      "1                -1             -1             -1             -1   \n",
      "2                -1             -1             -1             -1   \n",
      "3                -1             -1             -1             -1   \n",
      "4                -1             -1             -1             -1   \n",
      "5                -1             -1             -1             -1   \n",
      "6                -1             -1             -1             -1   \n",
      "7                -1             -1             -1             -1   \n",
      "8                -1             -1             -1             -1   \n",
      "9                -1             -1             -1             -1   \n",
      "10               -1             -1             -1             -1   \n",
      "11               -1             -1             -1             -1   \n",
      "12               -1             -1             -1             -1   \n",
      "13               -1             -1             -1             -1   \n",
      "14               -1             -1             -1             -1   \n",
      "15               -1             -1             -1             -1   \n",
      "16               -1             -1             -1             -1   \n",
      "17               -1             -1             -1             -1   \n",
      "18               -1             -1             -1             -1   \n",
      "19               -1             -1             -1             -1   \n",
      "20               -1             -1             -1             -1   \n",
      "21               -1             -1             -1             -1   \n",
      "22               -1             -1             -1             -1   \n",
      "23               -1             -1             -1             -1   \n",
      "24               -1             -1             -1             -1   \n",
      "25               -1             -1             -1             -1   \n",
      "26               -1             -1             -1             -1   \n",
      "27               -1             -1             -1             -1   \n",
      "28               -1             -1             -1             -1   \n",
      "29               -1             -1             -1             -1   \n",
      "...             ...            ...            ...            ...   \n",
      "1727              0              0              0              1   \n",
      "1728              0              0              0              0   \n",
      "1729             -1             -1             -1             -1   \n",
      "1730             -1             -1             -1             -1   \n",
      "1731              1              0              0              0   \n",
      "1732              0              0              0              0   \n",
      "1733              0              0              0              0   \n",
      "1734              1              0              0              0   \n",
      "1735              0              0              0              0   \n",
      "1736              0              0              0              0   \n",
      "1737              0              0              0              0   \n",
      "1738              0              0              0              1   \n",
      "1739              0              0              0              0   \n",
      "1740              0              0              0              0   \n",
      "1741             -1             -1             -1             -1   \n",
      "1742              0              0              0              1   \n",
      "1743             -1             -1             -1             -1   \n",
      "1744              1              0              0              0   \n",
      "1745              0              0              0              0   \n",
      "1746              1              0              0              0   \n",
      "1747             -1             -1             -1             -1   \n",
      "1748              1              1              0              1   \n",
      "1749             -1             -1             -1             -1   \n",
      "1750             -1             -1             -1             -1   \n",
      "1751             -1             -1             -1             -1   \n",
      "1752              0              0              0              0   \n",
      "1753             -1             -1             -1             -1   \n",
      "1754             -1             -1             -1             -1   \n",
      "1755             -1             -1             -1             -1   \n",
      "1756              0              0              0              0   \n",
      "\n",
      "      FdAuthAct_MC7  FdAuthAct_MC8  FdAuthAct_MC9  \n",
      "0                -1             -1             -1  \n",
      "1                -1             -1             -1  \n",
      "2                -1             -1             -1  \n",
      "3                -1             -1             -1  \n",
      "4                -1             -1             -1  \n",
      "5                -1             -1             -1  \n",
      "6                -1             -1             -1  \n",
      "7                -1             -1             -1  \n",
      "8                -1             -1             -1  \n",
      "9                -1             -1             -1  \n",
      "10               -1             -1             -1  \n",
      "11               -1             -1             -1  \n",
      "12               -1             -1             -1  \n",
      "13               -1             -1             -1  \n",
      "14               -1             -1             -1  \n",
      "15               -1             -1             -1  \n",
      "16               -1             -1             -1  \n",
      "17               -1             -1             -1  \n",
      "18               -1             -1             -1  \n",
      "19               -1             -1             -1  \n",
      "20               -1             -1             -1  \n",
      "21               -1             -1             -1  \n",
      "22               -1             -1             -1  \n",
      "23               -1             -1             -1  \n",
      "24               -1             -1             -1  \n",
      "25               -1             -1             -1  \n",
      "26               -1             -1             -1  \n",
      "27               -1             -1             -1  \n",
      "28               -1             -1             -1  \n",
      "29               -1             -1             -1  \n",
      "...             ...            ...            ...  \n",
      "1727              0              0              0  \n",
      "1728              0              0              1  \n",
      "1729             -1             -1             -1  \n",
      "1730             -1             -1             -1  \n",
      "1731              0              0              0  \n",
      "1732              0              0              1  \n",
      "1733              0              0              1  \n",
      "1734              0              0              0  \n",
      "1735              0              0              1  \n",
      "1736              0              0              1  \n",
      "1737              1              0              0  \n",
      "1738              1              0              0  \n",
      "1739              0              0              1  \n",
      "1740              0              0              1  \n",
      "1741             -1             -1             -1  \n",
      "1742              0              0              0  \n",
      "1743             -1             -1             -1  \n",
      "1744              0              0              0  \n",
      "1745              0              0              1  \n",
      "1746              1              0              0  \n",
      "1747             -1             -1             -1  \n",
      "1748              1              0              0  \n",
      "1749             -1             -1             -1  \n",
      "1750             -1             -1             -1  \n",
      "1751             -1             -1             -1  \n",
      "1752              0              0              0  \n",
      "1753             -1             -1             -1  \n",
      "1754             -1             -1             -1  \n",
      "1755             -1             -1             -1  \n",
      "1756              0              0              1  \n",
      "\n",
      "[1757 rows x 502 columns]\n"
     ]
    }
   ],
   "source": [
    "food_and_you_wales = pd.read_csv(\"food_and_you_all_waves_wales.csv\")\n",
    "print (food_and_you_wales)"
   ]
  },
  {
   "cell_type": "code",
   "execution_count": 18,
   "metadata": {},
   "outputs": [],
   "source": [
    "# save outcome variable in new object\n",
    "\n",
    "food_poisoning_last_year = pd.DataFrame(food_and_you_wales, columns=[\"bpoison\"])\n"
   ]
  },
  {
   "cell_type": "code",
   "execution_count": 19,
   "metadata": {},
   "outputs": [
    {
     "data": {
      "text/plain": [
       "array([[ 1.00027e+05,  2.00000e+00, -1.00000e+00, ..., -1.00000e+00,\n",
       "        -1.00000e+00, -1.00000e+00],\n",
       "       [ 1.00037e+05,  2.00000e+00, -1.00000e+00, ..., -1.00000e+00,\n",
       "        -1.00000e+00, -1.00000e+00],\n",
       "       [ 1.00129e+05,  2.00000e+00, -1.00000e+00, ..., -1.00000e+00,\n",
       "        -1.00000e+00, -1.00000e+00],\n",
       "       ...,\n",
       "       [ 5.14342e+05,  1.00000e+00,  3.00000e+00, ..., -1.00000e+00,\n",
       "        -1.00000e+00, -1.00000e+00],\n",
       "       [ 5.14440e+05,  2.00000e+00,  6.00000e+00, ..., -1.00000e+00,\n",
       "        -1.00000e+00, -1.00000e+00],\n",
       "       [ 5.14509e+05,  2.00000e+00,  2.00000e+00, ...,  0.00000e+00,\n",
       "         0.00000e+00,  1.00000e+00]])"
      ]
     },
     "execution_count": 19,
     "metadata": {},
     "output_type": "execute_result"
    }
   ],
   "source": [
    "# return numpy array from df\n",
    "\n",
    "food_and_you_scaled = food_and_you_wales.values\n",
    "food_and_you_scaled\n"
   ]
  },
  {
   "cell_type": "code",
   "execution_count": 20,
   "metadata": {},
   "outputs": [
    {
     "data": {
      "text/plain": [
       "1757"
      ]
     },
     "execution_count": 20,
     "metadata": {},
     "output_type": "execute_result"
    }
   ],
   "source": [
    "# calculate length of rows \n",
    "\n",
    "no_rows = len (food_and_you_scaled)\n",
    "no_rows"
   ]
  },
  {
   "cell_type": "code",
   "execution_count": 21,
   "metadata": {},
   "outputs": [
    {
     "data": {
      "text/plain": [
       "502"
      ]
     },
     "execution_count": 21,
     "metadata": {},
     "output_type": "execute_result"
    }
   ],
   "source": [
    "# calculate length of columns \n",
    "\n",
    "no_columns = len (food_and_you_scaled [0])\n",
    "no_columns"
   ]
  },
  {
   "cell_type": "code",
   "execution_count": 22,
   "metadata": {},
   "outputs": [
    {
     "ename": "SyntaxError",
     "evalue": "invalid syntax (<ipython-input-22-ce1dc14a9ec5>, line 4)",
     "output_type": "error",
     "traceback": [
      "\u001b[0;36m  File \u001b[0;32m\"<ipython-input-22-ce1dc14a9ec5>\"\u001b[0;36m, line \u001b[0;32m4\u001b[0m\n\u001b[0;31m    for column in food_and_you_scaled\u001b[0m\n\u001b[0m                                     ^\u001b[0m\n\u001b[0;31mSyntaxError\u001b[0m\u001b[0;31m:\u001b[0m invalid syntax\n"
     ]
    }
   ],
   "source": [
    "# remove values that are 'refused to answer', 'unknown' etc\n",
    "# remove by column?\n",
    "\n",
    "for column in food_and_you_scaled \n",
    "    if food_and_you_scaled [column] = -1 or food_and_you_scaled [column] = -8 or \n",
    "    food_and_you_scaled [column] = -9\n",
    "        df.replace ('-1', np.nan)\n",
    "        \n",
    "\n",
    "    "
   ]
  },
  {
   "cell_type": "code",
   "execution_count": 34,
   "metadata": {},
   "outputs": [
    {
     "name": "stdout",
     "output_type": "stream",
     "text": [
      "[[0.00000000e+00 1.00000000e+00 0.00000000e+00 ... 0.00000000e+00\n",
      "  0.00000000e+00 0.00000000e+00]\n",
      " [2.41265001e-05 1.00000000e+00 0.00000000e+00 ... 0.00000000e+00\n",
      "  0.00000000e+00 0.00000000e+00]\n",
      " [2.46090301e-04 1.00000000e+00 0.00000000e+00 ... 0.00000000e+00\n",
      "  0.00000000e+00 0.00000000e+00]\n",
      " ...\n",
      " [9.99597087e-01 0.00000000e+00 5.00000000e-01 ... 0.00000000e+00\n",
      "  0.00000000e+00 0.00000000e+00]\n",
      " [9.99833527e-01 1.00000000e+00 8.75000000e-01 ... 0.00000000e+00\n",
      "  0.00000000e+00 0.00000000e+00]\n",
      " [1.00000000e+00 1.00000000e+00 3.75000000e-01 ... 5.00000000e-01\n",
      "  5.00000000e-01 1.00000000e+00]]\n"
     ]
    }
   ],
   "source": [
    "# normalise each column between 0 and 1\n",
    "from sklearn import preprocessing\n",
    "\n"
   ]
  },
  {
   "cell_type": "code",
   "execution_count": null,
   "metadata": {},
   "outputs": [],
   "source": [
    "# create new function to normalise by column between 0 and 1\n",
    "def normalize(df):\n",
    "    result = df.copy()\n",
    "    for feature_name in df.columns:\n",
    "        max_value = df[feature_name].max()\n",
    "        min_value = df[feature_name].min()\n",
    "        result[feature_name] = (df[feature_name] - min_value) / (max_value - min_value)\n",
    "    return result\n"
   ]
  },
  {
   "cell_type": "code",
   "execution_count": 29,
   "metadata": {},
   "outputs": [
    {
     "ename": "ImportError",
     "evalue": "cannot import name 'LinearRegression' from 'sklearn' (/Users/mihaelanemes/anaconda3/lib/python3.7/site-packages/sklearn/__init__.py)",
     "output_type": "error",
     "traceback": [
      "\u001b[0;31m---------------------------------------------------------------------------\u001b[0m",
      "\u001b[0;31mImportError\u001b[0m                               Traceback (most recent call last)",
      "\u001b[0;32m<ipython-input-29-7a61166eb5f1>\u001b[0m in \u001b[0;36m<module>\u001b[0;34m\u001b[0m\n\u001b[1;32m      2\u001b[0m \u001b[0;31m## could use Recursive feature elimination (?)\u001b[0m\u001b[0;34m\u001b[0m\u001b[0;34m\u001b[0m\u001b[0;34m\u001b[0m\u001b[0m\n\u001b[1;32m      3\u001b[0m \u001b[0;32mfrom\u001b[0m \u001b[0msklearn\u001b[0m \u001b[0;32mimport\u001b[0m \u001b[0mlinear_model\u001b[0m\u001b[0;34m\u001b[0m\u001b[0;34m\u001b[0m\u001b[0m\n\u001b[0;32m----> 4\u001b[0;31m \u001b[0;32mfrom\u001b[0m \u001b[0msklearn\u001b[0m \u001b[0;32mimport\u001b[0m \u001b[0mLinearRegression\u001b[0m\u001b[0;34m\u001b[0m\u001b[0;34m\u001b[0m\u001b[0m\n\u001b[0m",
      "\u001b[0;31mImportError\u001b[0m: cannot import name 'LinearRegression' from 'sklearn' (/Users/mihaelanemes/anaconda3/lib/python3.7/site-packages/sklearn/__init__.py)"
     ]
    }
   ],
   "source": [
    "# import regression model\n",
    "## could use Recursive feature elimination (?)\n",
    "from sklearn import linear_model\n",
    "from sklearn import LinearRegression"
   ]
  },
  {
   "cell_type": "code",
   "execution_count": 27,
   "metadata": {},
   "outputs": [
    {
     "ename": "NameError",
     "evalue": "name 'LinearRegression' is not defined",
     "output_type": "error",
     "traceback": [
      "\u001b[0;31m---------------------------------------------------------------------------\u001b[0m",
      "\u001b[0;31mNameError\u001b[0m                                 Traceback (most recent call last)",
      "\u001b[0;32m<ipython-input-27-729862eb1184>\u001b[0m in \u001b[0;36m<module>\u001b[0;34m\u001b[0m\n\u001b[1;32m      1\u001b[0m \u001b[0;31m# run linear regression model\u001b[0m\u001b[0;34m\u001b[0m\u001b[0;34m\u001b[0m\u001b[0;34m\u001b[0m\u001b[0m\n\u001b[0;32m----> 2\u001b[0;31m \u001b[0mfood_poisoning_model\u001b[0m \u001b[0;34m=\u001b[0m \u001b[0mLinearRegression\u001b[0m\u001b[0;34m(\u001b[0m\u001b[0;34m)\u001b[0m\u001b[0;34m.\u001b[0m\u001b[0mfit\u001b[0m\u001b[0;34m(\u001b[0m\u001b[0mnorm_food_and_you\u001b[0m\u001b[0;34m,\u001b[0m \u001b[0mfood_poisoning_last_year\u001b[0m\u001b[0;34m)\u001b[0m\u001b[0;34m\u001b[0m\u001b[0;34m\u001b[0m\u001b[0m\n\u001b[0m",
      "\u001b[0;31mNameError\u001b[0m: name 'LinearRegression' is not defined"
     ]
    }
   ],
   "source": [
    "# run linear regression model\n",
    "food_poisoning_model = LinearRegression().fit(norm_food_and_you, food_poisoning_last_year)"
   ]
  },
  {
   "cell_type": "code",
   "execution_count": null,
   "metadata": {},
   "outputs": [],
   "source": []
  }
 ],
 "metadata": {
  "kernelspec": {
   "display_name": "Python 3",
   "language": "python",
   "name": "python3"
  },
  "language_info": {
   "codemirror_mode": {
    "name": "ipython",
    "version": 3
   },
   "file_extension": ".py",
   "mimetype": "text/x-python",
   "name": "python",
   "nbconvert_exporter": "python",
   "pygments_lexer": "ipython3",
   "version": "3.7.3"
  }
 },
 "nbformat": 4,
 "nbformat_minor": 2
}
